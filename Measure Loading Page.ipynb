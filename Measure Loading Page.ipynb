{
 "cells": [
  {
   "cell_type": "markdown",
   "metadata": {},
   "source": [
    "Count Page being loaded"
   ]
  },
  {
   "cell_type": "code",
   "execution_count": 1,
   "metadata": {},
   "outputs": [],
   "source": [
    "from selenium import webdriver\n",
    "import pyspeedtest\n",
    "import requests\n",
    "import json\n",
    "from threading import Thread\n",
    "import datetime\n",
    "import time\n",
    "import pytz\n",
    "\n",
    "driver = \"\"\n",
    "\n",
    "# https://www.lambdatest.com/blog/how-to-measure-page-load-times-with-selenium/\n",
    "\n",
    "def calc_page_load(url,sto):    \n",
    "    hyperlink = \"https://\"+url\n",
    "    \n",
    "    st = pyspeedtest.SpeedTest()\n",
    "    st.host = url\n",
    "    # ping = st.ping()\n",
    "    \n",
    "    driver = webdriver.Chrome(\"./chromedriver\")\n",
    "    driver.get(hyperlink)\n",
    "    navigationStart = driver.execute_script(\"return window.performance.timing.navigationStart\")\n",
    "    responseStart = driver.execute_script(\"return window.performance.timing.responseStart\")\n",
    "    domComplete = driver.execute_script(\"return window.performance.timing.domComplete\")\n",
    "\n",
    "    backendPerformance_calc = responseStart - navigationStart\n",
    "    frontendPerformance_calc = domComplete - responseStart\n",
    "\n",
    "    time.sleep(2)\n",
    "    driver.quit()\n",
    "    \n",
    "    returnDict = {\n",
    "        'time': str(datetime.datetime.now(pytz.timezone('Asia/Kolkata'))),\n",
    "        'STO': sto,\n",
    "        'url': url,\n",
    "        'back_end_ms': backendPerformance_calc,\n",
    "        'front_end_ms': frontendPerformance_calc,\n",
    "        'domComplete_time_int': domComplete,\n",
    "        'success': True\n",
    "    }   \n",
    "    return json.dumps(returnDict, sort_keys=False, indent=4)\n",
    "\n",
    "def calc_page_load_stoped(url,sto):\n",
    "    returnDict = {\n",
    "        'success': False,\n",
    "        'url': url,\n",
    "        'STO': sto,\n",
    "        'proccess_time': 10\n",
    "    }  "
   ]
  },
  {
   "cell_type": "code",
   "execution_count": 2,
   "metadata": {},
   "outputs": [
    {
     "name": "stdout",
     "output_type": "stream",
     "text": [
      "{\n",
      "    \"time\": \"2020-06-16 09:37:03.531694+05:30\",\n",
      "    \"STO\": \"RKT\",\n",
      "    \"url\": \"instagram.com\",\n",
      "    \"back_end_ms\": 1434,\n",
      "    \"front_end_ms\": 982,\n",
      "    \"domComplete_time_int\": 1592280421226,\n",
      "    \"success\": true\n",
      "}\n"
     ]
    }
   ],
   "source": [
    "print(calc_page_load(\"instagram.com\", \"RKT\"))"
   ]
  },
  {
   "cell_type": "code",
   "execution_count": null,
   "metadata": {},
   "outputs": [],
   "source": [
    "from urllib2 import urlopen\n",
    "import json\n",
    "def getplace(lat, lon):\n",
    "    url = \"http://maps.googleapis.com/maps/api/geocode/json?\"\n",
    "    url += \"latlng=%s,%s&sensor=false\" % (lat, lon)\n",
    "    v = urlopen(url).read()\n",
    "    j = json.loads(v)\n",
    "    components = j['results'][0]['address_components']\n",
    "    country = town = None\n",
    "    for c in components:\n",
    "        if \"country\" in c['types']:\n",
    "            country = c['long_name']\n",
    "        if \"postal_town\" in c['types']:\n",
    "            town = c['long_name']\n",
    "    return town, country\n",
    "\n",
    "\n",
    "print(getplace(51.1, 0.1))\n",
    "print(getplace(51.2, 0.1))\n",
    "print(getplace(51.3, 0.1))"
   ]
  },
  {
   "cell_type": "code",
   "execution_count": null,
   "metadata": {},
   "outputs": [],
   "source": [
    "send_url = 'http://freegeoip.net/json'\n",
    "r = requests.get(send_url)\n",
    "j = json.loads(r.text)\n",
    "lat = j['latitude']\n",
    "lon = j['longitude']\n",
    "print(lat)\n",
    "print(lon)"
   ]
  },
  {
   "cell_type": "code",
   "execution_count": null,
   "metadata": {},
   "outputs": [],
   "source": [
    "#print(calculate_page(\"instagram.com\",\"RKT\"))\n",
    "if __name__ == '__main__':\n",
    "    # Start func as a process\n",
    "    url = \"instagram.com\"\n",
    "    sto = \"RKT\"\n",
    "    \n",
    "    stop_threads = False\n",
    "    t = Thread(target = calc_page_load, args =(url, sto)) \n",
    "    t.start()  \n",
    "\n",
    "    end_time = time.time() + 10\n",
    "    while time.time() < end_time and t.is_alive:\n",
    "        if t.is_alive()==False:\n",
    "            driver.quit()\n",
    "            stop_threads = True\n",
    "            t.join()\n",
    "            print(func_stoped(url, sto))"
   ]
  }
 ],
 "metadata": {
  "kernelspec": {
   "display_name": "Python 3",
   "language": "python",
   "name": "python3"
  },
  "language_info": {
   "codemirror_mode": {
    "name": "ipython",
    "version": 3
   },
   "file_extension": ".py",
   "mimetype": "text/x-python",
   "name": "python",
   "nbconvert_exporter": "python",
   "pygments_lexer": "ipython3",
   "version": "3.7.6"
  }
 },
 "nbformat": 4,
 "nbformat_minor": 4
}
